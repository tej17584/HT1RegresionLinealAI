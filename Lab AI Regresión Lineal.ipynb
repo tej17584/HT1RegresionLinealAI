{
 "cells": [
  {
   "cell_type": "markdown",
   "metadata": {},
   "source": [
    "# Lab 1 Inteligencia Artificial \n",
    "### Alejandro Tejada\n",
    "### Carné: 17584\n",
    "### Curso: Inteligencia Artificial\n",
    "### Fecha: 8/03/2020"
   ]
  },
  {
   "cell_type": "markdown",
   "metadata": {},
   "source": [
    "## Primero leemos el CSV"
   ]
  },
  {
   "cell_type": "code",
   "execution_count": 1,
   "metadata": {},
   "outputs": [],
   "source": [
    "import csv "
   ]
  },
  {
   "cell_type": "markdown",
   "metadata": {},
   "source": [
    "### Lectura del CSV"
   ]
  },
  {
   "cell_type": "code",
   "execution_count": 2,
   "metadata": {},
   "outputs": [],
   "source": [
    "import numpy as np\n",
    "import pandas as pd\n",
    "import plotly.express as px"
   ]
  },
  {
   "cell_type": "code",
   "execution_count": 4,
   "metadata": {},
   "outputs": [],
   "source": [
    "dataSetFull = pd.read_csv(\"Admission_Predict.csv\")"
   ]
  },
  {
   "cell_type": "markdown",
   "metadata": {},
   "source": [
    "### Imprimimos la data"
   ]
  },
  {
   "cell_type": "code",
   "execution_count": 5,
   "metadata": {},
   "outputs": [
    {
     "data": {
      "text/html": [
       "<div>\n",
       "<style scoped>\n",
       "    .dataframe tbody tr th:only-of-type {\n",
       "        vertical-align: middle;\n",
       "    }\n",
       "\n",
       "    .dataframe tbody tr th {\n",
       "        vertical-align: top;\n",
       "    }\n",
       "\n",
       "    .dataframe thead th {\n",
       "        text-align: right;\n",
       "    }\n",
       "</style>\n",
       "<table border=\"1\" class=\"dataframe\">\n",
       "  <thead>\n",
       "    <tr style=\"text-align: right;\">\n",
       "      <th></th>\n",
       "      <th>Serial No.</th>\n",
       "      <th>GRE Score</th>\n",
       "      <th>TOEFL Score</th>\n",
       "      <th>University Rating</th>\n",
       "      <th>SOP</th>\n",
       "      <th>LOR</th>\n",
       "      <th>CGPA</th>\n",
       "      <th>Research</th>\n",
       "      <th>Chance of Admit</th>\n",
       "    </tr>\n",
       "  </thead>\n",
       "  <tbody>\n",
       "    <tr>\n",
       "      <th>0</th>\n",
       "      <td>1</td>\n",
       "      <td>337</td>\n",
       "      <td>118</td>\n",
       "      <td>4</td>\n",
       "      <td>4.5</td>\n",
       "      <td>4.5</td>\n",
       "      <td>9.65</td>\n",
       "      <td>1</td>\n",
       "      <td>0.92</td>\n",
       "    </tr>\n",
       "    <tr>\n",
       "      <th>1</th>\n",
       "      <td>2</td>\n",
       "      <td>324</td>\n",
       "      <td>107</td>\n",
       "      <td>4</td>\n",
       "      <td>4.0</td>\n",
       "      <td>4.5</td>\n",
       "      <td>8.87</td>\n",
       "      <td>1</td>\n",
       "      <td>0.76</td>\n",
       "    </tr>\n",
       "    <tr>\n",
       "      <th>2</th>\n",
       "      <td>3</td>\n",
       "      <td>316</td>\n",
       "      <td>104</td>\n",
       "      <td>3</td>\n",
       "      <td>3.0</td>\n",
       "      <td>3.5</td>\n",
       "      <td>8.00</td>\n",
       "      <td>1</td>\n",
       "      <td>0.72</td>\n",
       "    </tr>\n",
       "    <tr>\n",
       "      <th>3</th>\n",
       "      <td>4</td>\n",
       "      <td>322</td>\n",
       "      <td>110</td>\n",
       "      <td>3</td>\n",
       "      <td>3.5</td>\n",
       "      <td>2.5</td>\n",
       "      <td>8.67</td>\n",
       "      <td>1</td>\n",
       "      <td>0.80</td>\n",
       "    </tr>\n",
       "    <tr>\n",
       "      <th>4</th>\n",
       "      <td>5</td>\n",
       "      <td>314</td>\n",
       "      <td>103</td>\n",
       "      <td>2</td>\n",
       "      <td>2.0</td>\n",
       "      <td>3.0</td>\n",
       "      <td>8.21</td>\n",
       "      <td>0</td>\n",
       "      <td>0.65</td>\n",
       "    </tr>\n",
       "    <tr>\n",
       "      <th>...</th>\n",
       "      <td>...</td>\n",
       "      <td>...</td>\n",
       "      <td>...</td>\n",
       "      <td>...</td>\n",
       "      <td>...</td>\n",
       "      <td>...</td>\n",
       "      <td>...</td>\n",
       "      <td>...</td>\n",
       "      <td>...</td>\n",
       "    </tr>\n",
       "    <tr>\n",
       "      <th>395</th>\n",
       "      <td>396</td>\n",
       "      <td>324</td>\n",
       "      <td>110</td>\n",
       "      <td>3</td>\n",
       "      <td>3.5</td>\n",
       "      <td>3.5</td>\n",
       "      <td>9.04</td>\n",
       "      <td>1</td>\n",
       "      <td>0.82</td>\n",
       "    </tr>\n",
       "    <tr>\n",
       "      <th>396</th>\n",
       "      <td>397</td>\n",
       "      <td>325</td>\n",
       "      <td>107</td>\n",
       "      <td>3</td>\n",
       "      <td>3.0</td>\n",
       "      <td>3.5</td>\n",
       "      <td>9.11</td>\n",
       "      <td>1</td>\n",
       "      <td>0.84</td>\n",
       "    </tr>\n",
       "    <tr>\n",
       "      <th>397</th>\n",
       "      <td>398</td>\n",
       "      <td>330</td>\n",
       "      <td>116</td>\n",
       "      <td>4</td>\n",
       "      <td>5.0</td>\n",
       "      <td>4.5</td>\n",
       "      <td>9.45</td>\n",
       "      <td>1</td>\n",
       "      <td>0.91</td>\n",
       "    </tr>\n",
       "    <tr>\n",
       "      <th>398</th>\n",
       "      <td>399</td>\n",
       "      <td>312</td>\n",
       "      <td>103</td>\n",
       "      <td>3</td>\n",
       "      <td>3.5</td>\n",
       "      <td>4.0</td>\n",
       "      <td>8.78</td>\n",
       "      <td>0</td>\n",
       "      <td>0.67</td>\n",
       "    </tr>\n",
       "    <tr>\n",
       "      <th>399</th>\n",
       "      <td>400</td>\n",
       "      <td>333</td>\n",
       "      <td>117</td>\n",
       "      <td>4</td>\n",
       "      <td>5.0</td>\n",
       "      <td>4.0</td>\n",
       "      <td>9.66</td>\n",
       "      <td>1</td>\n",
       "      <td>0.95</td>\n",
       "    </tr>\n",
       "  </tbody>\n",
       "</table>\n",
       "<p>400 rows × 9 columns</p>\n",
       "</div>"
      ],
      "text/plain": [
       "     Serial No.  GRE Score  TOEFL Score  University Rating  SOP  LOR   CGPA  \\\n",
       "0             1        337          118                  4  4.5   4.5  9.65   \n",
       "1             2        324          107                  4  4.0   4.5  8.87   \n",
       "2             3        316          104                  3  3.0   3.5  8.00   \n",
       "3             4        322          110                  3  3.5   2.5  8.67   \n",
       "4             5        314          103                  2  2.0   3.0  8.21   \n",
       "..          ...        ...          ...                ...  ...   ...   ...   \n",
       "395         396        324          110                  3  3.5   3.5  9.04   \n",
       "396         397        325          107                  3  3.0   3.5  9.11   \n",
       "397         398        330          116                  4  5.0   4.5  9.45   \n",
       "398         399        312          103                  3  3.5   4.0  8.78   \n",
       "399         400        333          117                  4  5.0   4.0  9.66   \n",
       "\n",
       "     Research  Chance of Admit   \n",
       "0           1              0.92  \n",
       "1           1              0.76  \n",
       "2           1              0.72  \n",
       "3           1              0.80  \n",
       "4           0              0.65  \n",
       "..        ...               ...  \n",
       "395         1              0.82  \n",
       "396         1              0.84  \n",
       "397         1              0.91  \n",
       "398         0              0.67  \n",
       "399         1              0.95  \n",
       "\n",
       "[400 rows x 9 columns]"
      ]
     },
     "execution_count": 5,
     "metadata": {},
     "output_type": "execute_result"
    }
   ],
   "source": [
    "dataSetFull"
   ]
  },
  {
   "cell_type": "code",
   "execution_count": 6,
   "metadata": {},
   "outputs": [
    {
     "data": {
      "text/plain": [
       "array([[  1.  , 337.  , 118.  , ...,   9.65,   1.  ,   0.92],\n",
       "       [  2.  , 324.  , 107.  , ...,   8.87,   1.  ,   0.76],\n",
       "       [  3.  , 316.  , 104.  , ...,   8.  ,   1.  ,   0.72],\n",
       "       ...,\n",
       "       [398.  , 330.  , 116.  , ...,   9.45,   1.  ,   0.91],\n",
       "       [399.  , 312.  , 103.  , ...,   8.78,   0.  ,   0.67],\n",
       "       [400.  , 333.  , 117.  , ...,   9.66,   1.  ,   0.95]])"
      ]
     },
     "execution_count": 6,
     "metadata": {},
     "output_type": "execute_result"
    }
   ],
   "source": [
    "a = np.array(dataSetFull)\n",
    "a"
   ]
  },
  {
   "cell_type": "markdown",
   "metadata": {},
   "source": [
    "En este caso asignamos para intentar ver un array para poder ver la data en np.array, pero en realidad solo lo necesitamos en formato de np.array lo que necesitemos, acontinuacion haremos unas plots.\n"
   ]
  },
  {
   "cell_type": "markdown",
   "metadata": {},
   "source": [
    "Graficamos la data para ver cuales tienen correlacion, y cuales  son las necesarias."
   ]
  },
  {
   "cell_type": "markdown",
   "metadata": {},
   "source": [
    "## Análisis de los Datos y Seleccionando los que necesitaremos"
   ]
  },
  {
   "cell_type": "markdown",
   "metadata": {},
   "source": [
    "Primero decidamos que datos vamos a usar de todo el data set"
   ]
  },
  {
   "cell_type": "markdown",
   "metadata": {},
   "source": [
    "Los que usaremos serán:\n",
    "* GRE Score\n",
    "* TOEFL Score\n",
    "* SOP\n",
    "* LOR\n",
    "* CGPA\n",
    "* Chance of Admit"
   ]
  },
  {
   "cell_type": "markdown",
   "metadata": {},
   "source": [
    "### Asignamos valores de variables con los datos"
   ]
  },
  {
   "cell_type": "code",
   "execution_count": 7,
   "metadata": {},
   "outputs": [],
   "source": [
    "fullData = pd.read_csv(\"Admission_Predict.csv\")\n",
    "greScore = np.array(fullData.iloc[0:300, 1].values)\n",
    "toeflScore = np.array(fullData.iloc[0:300, 2].values)\n",
    "SOPVar = np.array(fullData.iloc[:, 4].values)\n",
    "LORVar = np.array(fullData.iloc[:, 5].values)\n",
    "CGPAVar = np.array(fullData.iloc[:, 6].values)\n",
    "axisY = np.array(fullData.iloc[0:300, 8].values)\n",
    "axisYFull = np.array(fullData.iloc[:, 8].values)"
   ]
  },
  {
   "cell_type": "markdown",
   "metadata": {},
   "source": [
    "# Graficando Datos"
   ]
  },
  {
   "cell_type": "markdown",
   "metadata": {},
   "source": [
    "## GREScore Vs ChanceOfAdmit"
   ]
  },
  {
   "cell_type": "code",
   "execution_count": 10,
   "metadata": {},
   "outputs": [
    {
     "data": {
      "image/png": "[encoded data removed]",
      "text/plain": [
       "<Figure size 432x288 with 1 Axes>"
      ]
     },
     "metadata": {
      "needs_background": "light"
     },
     "output_type": "display_data"
    }
   ],
   "source": [
    "# Import the necessary packages and modules\n",
    "import matplotlib.pyplot as plt\n",
    "import numpy as np\n",
    "\n",
    "\n",
    "fig, ax = plt.subplots()\n",
    "ax.scatter(greScore, axisY , color=\"green\")\n",
    "\n",
    "# Show the plot\n",
    "plt.show()"
   ]
  },
  {
   "cell_type": "markdown",
   "metadata": {},
   "source": [
    "## Toefl Vs ChanceOfAdmit"
   ]
  },
  {
   "cell_type": "code",
   "execution_count": 9,
   "metadata": {},
   "outputs": [
    {
     "data": {
      "image/png": "[encoded data removed]",
      "text/plain": [
       "<Figure size 432x288 with 1 Axes>"
      ]
     },
     "metadata": {
      "needs_background": "light"
     },
     "output_type": "display_data"
    }
   ],
   "source": [
    "# Import the necessary packages and modules\n",
    "import matplotlib.pyplot as plt\n",
    "import numpy as np\n",
    "\n",
    "\n",
    "fig, ax = plt.subplots()\n",
    "ax.scatter(toeflScore, axisY , color=\"red\")\n",
    "\n",
    "# Show the plot\n",
    "plt.show()"
   ]
  },
  {
   "cell_type": "markdown",
   "metadata": {},
   "source": [
    "## SOP Vs ChanceOfAdmit"
   ]
  },
  {
   "cell_type": "code",
   "execution_count": 8,
   "metadata": {},
   "outputs": [
    {
     "data": {
      "image/png": "[encoded data removed]",
      "text/plain": [
       "<Figure size 432x288 with 1 Axes>"
      ]
     },
     "metadata": {
      "needs_background": "light"
     },
     "output_type": "display_data"
    }
   ],
   "source": [
    "# Import the necessary packages and modules\n",
    "import matplotlib.pyplot as plt\n",
    "import numpy as np\n",
    "\n",
    "\n",
    "fig, ax = plt.subplots()\n",
    "ax.scatter(SOPVar, axisYFull , color=\"black\")\n",
    "\n",
    "# Show the plot\n",
    "plt.show()"
   ]
  },
  {
   "cell_type": "markdown",
   "metadata": {},
   "source": [
    "## LOR Vs ChanceOfAdmit"
   ]
  },
  {
   "cell_type": "code",
   "execution_count": 11,
   "metadata": {},
   "outputs": [
    {
     "data": {
      "image/png": "[encoded data removed]",
      "text/plain": [
       "<Figure size 432x288 with 1 Axes>"
      ]
     },
     "metadata": {
      "needs_background": "light"
     },
     "output_type": "display_data"
    }
   ],
   "source": [
    "# Import the necessary packages and modules\n",
    "import matplotlib.pyplot as plt\n",
    "import numpy as np\n",
    "\n",
    "\n",
    "fig, ax = plt.subplots()\n",
    "ax.scatter(LORVar, axisYFull , color=\"blue\")\n",
    "\n",
    "# Show the plot\n",
    "plt.show()"
   ]
  },
  {
   "cell_type": "markdown",
   "metadata": {},
   "source": [
    "## CGPA Vs ChanceOfAdmit"
   ]
  },
  {
   "cell_type": "code",
   "execution_count": 12,
   "metadata": {},
   "outputs": [
    {
     "data": {
      "image/png": "[encoded data removed]",
      "text/plain": [
       "<Figure size 432x288 with 1 Axes>"
      ]
     },
     "metadata": {
      "needs_background": "light"
     },
     "output_type": "display_data"
    }
   ],
   "source": [
    "# Import the necessary packages and modules\n",
    "import matplotlib.pyplot as plt\n",
    "import numpy as np\n",
    "\n",
    "\n",
    "fig, ax = plt.subplots()\n",
    "ax.scatter(CGPAVar, axisYFull , color=\"purple\")\n",
    "\n",
    "# Show the plot\n",
    "plt.show()"
   ]
  },
  {
   "cell_type": "markdown",
   "metadata": {},
   "source": [
    "## Variable a escoger\n",
    "\n",
    "Dado que tanto como GRE, Toefl y CGPA muestran una tendencia adecuada para ser linea, se usará solo una variable para poder realizar los datos y poder hacer la regresión.\n",
    "Se usará **GRESCORE** para poder hacer la regresión. \n"
   ]
  },
  {
   "cell_type": "markdown",
   "metadata": {},
   "source": [
    "# Usando nuestro modelo"
   ]
  },
  {
   "cell_type": "markdown",
   "metadata": {},
   "source": [
    "Useremos nuestro propio Modelo, empezando por los métodos necesarios.\n"
   ]
  },
  {
   "cell_type": "code",
   "execution_count": 14,
   "metadata": {},
   "outputs": [
    {
     "data": {
      "image/png": "[encoded data removed]",
      "text/plain": [
       "<Figure size 432x288 with 1 Axes>"
      ]
     },
     "metadata": {
      "needs_background": "light"
     },
     "output_type": "display_data"
    }
   ],
   "source": [
    "import numpy as np\n",
    "import csv\n",
    "import pandas as pd\n",
    "import plotly.express as px\n",
    "\n",
    "#definimos un costo de derivación regularizado, para regularizar, se usa lambdaValue\n",
    "def linear_cost_derivate_regularized(X, y, theta, lambdaValue):\n",
    "    vlambda = np.empty(300)\n",
    "    vlambda.fill(lambdaValue)\n",
    "    m, _ = X.shape\n",
    "    h = np.matmul(X, theta)\n",
    "    teta_0_regularized = h\n",
    "    #es en la multiplicacion de la transpuesta que se le suma el valor de lambda value pr el teta_0 regularizado\n",
    "    return (np.matmul((h - y).T, X).T + np.matmul(vlambda, teta_0_regularized)) / m\n",
    "\n",
    "\n",
    "#un linea cost regularizaed, recibe como parámetro un lambda value\n",
    "def linear_cost_regularized(X, y, theta, lambdaValue):\n",
    "    m, _ = X.shape\n",
    "    h = np.matmul(X, theta)\n",
    "    sq = (y - h) ** 2\n",
    "    teta_0_regularized = h ** 2\n",
    "    #retornamos el lambdavalue sumado con el regularizado\n",
    "    return (sq.sum() + (lambdaValue * teta_0_regularized.sum())) / (2 * m)\n",
    "\n",
    "# ahora viene el dataset\n",
    "\n",
    "TRAINING_ELEMENTS = 300\n",
    "x = greScore\n",
    "\"\"\"\n",
    "\n",
    "x = np.linspace(\n",
    "    -10,\n",
    "    30,\n",
    "    TRAINING_ELEMENTS\n",
    ")\n",
    "\n",
    "\"\"\"\n",
    "\n",
    "X = np.vstack(\n",
    "    (\n",
    "        np.ones(TRAINING_ELEMENTS),\n",
    "        greScore,\n",
    "        #x ** 3,\n",
    "    )\n",
    ").T\n",
    "\n",
    "# y = x ** 3 + 50 - 100 * np.random.rand(TRAINING_ELEMENTS)\n",
    "#y = 5 + 2 * x ** 3 + np.random.randint(-15, 15, TRAINING_ELEMENTS)\n",
    "dataset_1 = (X, axisY.reshape(TRAINING_ELEMENTS, 1))\n",
    "\n",
    "#Declaramos un gradiente para usarlo\n",
    "#parámetros:. X como eje, y como eje, theta_o como el valor de theta inicial, cost, para valores, cost derivate para valores \n",
    "# del método de costo, alpha para aprendiza, threshold para acercamiento al gradiente, max_iter para iteraciones, \n",
    "# lambdavalue como valor de correción\n",
    "def gradient_descent(\n",
    "        X,\n",
    "        y,\n",
    "        theta_0,\n",
    "        cost,\n",
    "        cost_derivate,\n",
    "        alpha=0.00001,\n",
    "        treshold=0.001,\n",
    "        max_iter=10000,\n",
    "        lambdaValue=0.5):\n",
    "    theta, i = theta_0, 0\n",
    "    costs = []\n",
    "    gradient_norms = []\n",
    "    while np.linalg.norm(cost_derivate(X, y, theta, lambdaValue)) > treshold and i < max_iter:\n",
    "        theta -= alpha * cost_derivate(X, y, theta, lambdaValue)\n",
    "        i += 1\n",
    "        costs.append(cost(X, y, theta, lambdaValue))\n",
    "        gradient_norms.append(cost_derivate(X, y, theta, lambdaValue))\n",
    "    return theta, costs, gradient_norms\n",
    "\n",
    "#ahora la test\n",
    "\n",
    "\n",
    "# Training data\n",
    "(X, y) = dataset_1\n",
    "m, n = X.shape\n",
    "theta_burned = [[-3.77130144], [0.01401026]]\n",
    "theta_0 = np.random.rand(n, 1)\n",
    "theta_0_burned = [[0.6503114], [0.14125331]]\n",
    "\n",
    "\n",
    "lambdaValue = 25.0\n",
    "\n",
    "theta, costs, gradient_norms = gradient_descent(\n",
    "    X,\n",
    "    y,\n",
    "    theta_0,\n",
    "    linear_cost_regularized,\n",
    "    linear_cost_derivate_regularized,\n",
    "    alpha=0.000001,\n",
    "    treshold=0.000001,\n",
    "    max_iter=10000,\n",
    "    lambdaValue=lambdaValue,\n",
    ")\n",
    "\n",
    "# Plot training data\n",
    "plt.scatter(X[:, 1], y)\n",
    "\n",
    "plt.plot(X[:, 1], np.matmul(X, theta_burned), color='red',\n",
    "         label=\"Thetha :\" + str(theta) + \"  lambdaValue: \"+str(lambdaValue))\n",
    "\n",
    "# plt.plot(np.arange(len(costs)), costs)\n",
    "plt.legend()\n",
    "\n",
    "plt.show()\n"
   ]
  },
  {
   "cell_type": "markdown",
   "metadata": {},
   "source": [
    "# Notas y Teoría del modelo "
   ]
  },
  {
   "cell_type": "markdown",
   "metadata": {},
   "source": [
    "Entrando en contexto, una regresión regularizada es para mejorar la exactitud mediante un penalty o un castigo a valores que no entren en nuestro parámetros deseados, para esto, era esencial que lográramos entender la teoría. Para eso, se hicieron iteraciones para poder encontrar un valor de lambda y un valor de theta adecuado para que la regresión sea adecuada, es por eso que la regresión logra adaptarse a los datos, porque se probó. el código a probar fue el siguiente.\n",
    "\n",
    "**Lambda** es un valor de 25.0, este es adecuado ya que luego de las iteraciones se logró comprobar que se ajustaba.\n",
    "\n",
    "import numpy as np\n",
    "from matplotlib import pyplot as plt\n",
    "\n",
    "from datasets import dataset_1\n",
    "from gradient_descent import gradient_descent\n",
    "from linear_cost import linear_cost\n",
    "from linear_cost_derivate import linear_cost_derivate\n",
    "\n",
    "from ln_regularizado import linear_cost_regularized\n",
    "from linear_cost_derivate_regularized import linear_cost_derivate_regularized\n",
    "\n",
    " Training data\n",
    "(X, y) = dataset_1\n",
    "m, n = X.shape\n",
    "theta_0 = np.random.rand(n, 1)\n",
    "theta_0_burned = [[0.046054599], [0.082545956]]\n",
    "print(theta_0)\n",
    "\n",
    "def frange2(start, end=None, inc=None):\n",
    "    \"A range function, that does accept float increments...\"\n",
    "\n",
    "    if end == None:\n",
    "        end = start + 0.0\n",
    "        start = 0.0\n",
    "    else:\n",
    "        start += 0.0  # force it to be a float\n",
    "\n",
    "    if inc == None:\n",
    "        inc = 1.0\n",
    "\n",
    "    count = int((end - start) / inc)\n",
    "    if start + count * inc != end:\n",
    "        # need to adjust the count.\n",
    "        # AFAIKT, it always comes up one short.\n",
    "        count += 1\n",
    "\n",
    "    L = [None, ] * count\n",
    "    for i in range(count):\n",
    "        L[i] = start + i * inc\n",
    "\n",
    "    return L\n",
    "\n",
    "\n",
    "for i in frange2(0, 30, 0.5):\n",
    "\n",
    "    lambdaValue = i\n",
    "    theta, costs, gradient_norms = gradient_descent(\n",
    "        X,\n",
    "        y,\n",
    "        theta_0,\n",
    "        linear_cost_regularized,\n",
    "        linear_cost_derivate_regularized,\n",
    "        alpha=0.000001,\n",
    "        treshold=0.000001,\n",
    "        max_iter=10000,\n",
    "        lambdaValue=lambdaValue,\n",
    "    )\n",
    "\n",
    "    # Plot training data\n",
    "    plt.scatter(X[:, 1], y)\n",
    "\n",
    "    plt.plot(X[:, 1], np.matmul(X, theta), color='red',\n",
    "             label=\"Thetha :\" + str(theta) + \"  lambdaValue: \"+str(lambdaValue))\n",
    "\n",
    "    # plt.plot(np.arange(len(costs)), costs)\n",
    "    plt.legend()\n",
    "\n",
    "    plt.show()\n",
    "\n",
    "    # # X => (11, 2)\n",
    "    # Xtraining = X[0:5, :]\n",
    "    # ytraining = y[0:5, :]\n",
    "    # Xcv = X[5:8, :]\n",
    "    # ycv = y[5:8, :]\n",
    "    # Xtest = X[8:, :]\n",
    "    # ytest = y[8:, :]\n",
    "\n",
    "    # # Model deduction\n",
    "    # theta = np.linalg.lstsq(Xtraining, ytraining)[0]\n",
    "\n",
    "    # print(\"Jtraining:\", linear_cost(theta, Xtraining, ytraining))\n",
    "    # print(\"Jcv:\", linear_cost(theta, Xcv, ycv))\n",
    "\n",
    "\n",
    "\n"
   ]
  },
  {
   "cell_type": "markdown",
   "metadata": {},
   "source": [
    "## Conclusiones"
   ]
  },
  {
   "cell_type": "markdown",
   "metadata": {},
   "source": [
    "* Lambda es un valor de **25** para este modelo, adecuado para los valores de regularización y de otros puntos como el costo adecuado y el gradiente con valores más pequeños.\n",
    "* El modelo se basa en el dato de GREP, ya que contiene relación adecuada (analizado al principio) y es un buen valor de variable."
   ]
  },
  {
   "cell_type": "markdown",
   "metadata": {},
   "source": [
    "# Referencias:\n",
    "* http://eio.usc.es/eipc1/BASE/BASEMASTER/FORMULARIOS-PHP-DPTO/MATERIALES/Mat_50140128_RegresionMultiple.pdf\n",
    "* https://www.youtube.com/watch?v=Q81RR3yKn30\n",
    "* https://www.youtube.com/watch?v=NGf0voTMlcs"
   ]
  }
 ],
 "metadata": {
  "kernelspec": {
   "display_name": "Python 3",
   "language": "python",
   "name": "python3"
  },
  "language_info": {
   "codemirror_mode": {
    "name": "ipython",
    "version": 3
   },
   "file_extension": ".py",
   "mimetype": "text/x-python",
   "name": "python",
   "nbconvert_exporter": "python",
   "pygments_lexer": "ipython3",
   "version": "3.8.1"
  }
 },
 "nbformat": 4,
 "nbformat_minor": 4
}
